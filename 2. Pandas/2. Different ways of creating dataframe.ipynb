{
 "cells": [
  {
   "cell_type": "code",
   "execution_count": null,
   "id": "d83f6713",
   "metadata": {},
   "outputs": [],
   "source": [
    "#Different waysof creating pandas dataframe\n",
    "#1)Using CSV\n",
    "#2)Using Excel\n",
    "#3)From python Dictionary\n",
    "# 4)From list of tuples\n",
    "# 5)From list of Dictionary"
   ]
  },
  {
   "cell_type": "code",
   "execution_count": 1,
   "id": "3ea46dd9",
   "metadata": {},
   "outputs": [],
   "source": [
    "import pandas as pd"
   ]
  },
  {
   "cell_type": "code",
   "execution_count": null,
   "id": "436d44c9",
   "metadata": {},
   "outputs": [],
   "source": [
    "#Creating dataframe using CSV\n",
    "df = pd.read_csv(\"Path or name\")"
   ]
  },
  {
   "cell_type": "code",
   "execution_count": null,
   "id": "6dca23b8",
   "metadata": {},
   "outputs": [],
   "source": [
    "#Creating dataframe using Excel\n",
    "df = pd.read_excel(\"Path or name\",\"Sheet_no\")"
   ]
  },
  {
   "cell_type": "code",
   "execution_count": null,
   "id": "53c78183",
   "metadata": {},
   "outputs": [],
   "source": [
    "#Creating dataframe using python dictionary\n",
    "df = pd.DataFrame(dict_name)"
   ]
  },
  {
   "cell_type": "code",
   "execution_count": 2,
   "id": "25c9cf4a",
   "metadata": {},
   "outputs": [
    {
     "data": {
      "text/html": [
       "<div>\n",
       "<style scoped>\n",
       "    .dataframe tbody tr th:only-of-type {\n",
       "        vertical-align: middle;\n",
       "    }\n",
       "\n",
       "    .dataframe tbody tr th {\n",
       "        vertical-align: top;\n",
       "    }\n",
       "\n",
       "    .dataframe thead th {\n",
       "        text-align: right;\n",
       "    }\n",
       "</style>\n",
       "<table border=\"1\" class=\"dataframe\">\n",
       "  <thead>\n",
       "    <tr style=\"text-align: right;\">\n",
       "      <th></th>\n",
       "      <th>Day</th>\n",
       "      <th>Temperature</th>\n",
       "      <th>Windspeed</th>\n",
       "      <th>Events</th>\n",
       "    </tr>\n",
       "  </thead>\n",
       "  <tbody>\n",
       "    <tr>\n",
       "      <th>0</th>\n",
       "      <td>1/1/2017</td>\n",
       "      <td>23</td>\n",
       "      <td>6</td>\n",
       "      <td>Rain</td>\n",
       "    </tr>\n",
       "    <tr>\n",
       "      <th>1</th>\n",
       "      <td>2/2/2017</td>\n",
       "      <td>25</td>\n",
       "      <td>8</td>\n",
       "      <td>Sunny</td>\n",
       "    </tr>\n",
       "    <tr>\n",
       "      <th>2</th>\n",
       "      <td>3/3/2017</td>\n",
       "      <td>20</td>\n",
       "      <td>4</td>\n",
       "      <td>Snow</td>\n",
       "    </tr>\n",
       "  </tbody>\n",
       "</table>\n",
       "</div>"
      ],
      "text/plain": [
       "        Day  Temperature  Windspeed Events\n",
       "0  1/1/2017           23          6   Rain\n",
       "1  2/2/2017           25          8  Sunny\n",
       "2  3/3/2017           20          4   Snow"
      ]
     },
     "execution_count": 2,
     "metadata": {},
     "output_type": "execute_result"
    }
   ],
   "source": [
    "#Creating dataframe from list of tuples\n",
    "weather_data = [\n",
    "    ('1/1/2017',23,6,'Rain'),\n",
    "    ('2/2/2017',25,8,'Sunny'),\n",
    "    ('3/3/2017',20,4,'Snow')\n",
    "]\n",
    "df = pd.DataFrame(weather_data,columns = ['Day','Temperature','Windspeed','Events'])\n",
    "df"
   ]
  },
  {
   "cell_type": "code",
   "execution_count": null,
   "id": "b0ae4176",
   "metadata": {},
   "outputs": [],
   "source": [
    "#Creating dataframe using list of dictionary\n",
    "weather_data = [\n",
    "    {'day': '1/1/2017', 'temperature': 32, 'windspeed': 6, 'event': 'Rain'},\n",
    "    {'day': '1/2/2017', 'temperature': 35, 'windspeed': 7, 'event': 'Sunny'},\n",
    "    {'day': '1/3/2017', 'temperature': 28, 'windspeed': 2, 'event': 'Snow'},\n",
    "    \n",
    "]\n",
    "df = pd.DataFrame(weather_data)\n",
    "df"
   ]
  }
 ],
 "metadata": {
  "kernelspec": {
   "display_name": "Python 3 (ipykernel)",
   "language": "python",
   "name": "python3"
  },
  "language_info": {
   "codemirror_mode": {
    "name": "ipython",
    "version": 3
   },
   "file_extension": ".py",
   "mimetype": "text/x-python",
   "name": "python",
   "nbconvert_exporter": "python",
   "pygments_lexer": "ipython3",
   "version": "3.9.7"
  }
 },
 "nbformat": 4,
 "nbformat_minor": 5
}
