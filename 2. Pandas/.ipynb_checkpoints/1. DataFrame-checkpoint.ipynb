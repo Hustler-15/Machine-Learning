{
 "cells": [
  {
   "cell_type": "code",
   "execution_count": null,
   "id": "48199f1d",
   "metadata": {},
   "outputs": [],
   "source": [
    "import pandas as pd\n",
    "weather_data = {\n",
    "    'day': ['1/1/2017','1/2/2017','1/3/2017','1/4/2017','1/5/2017','1/6/2017'],\n",
    "    'temperature': [32,35,28,24,32,31],\n",
    "    'windspeed': [6,7,2,7,4,2],\n",
    "    'event': ['Rain', 'Sunny', 'Snow','Snow','Rain', 'Sunny']\n",
    "}\n",
    "df = pd.DataFrame(weather_data) #To use dictionary has dataframe\n",
    "df = pd.read_csv(\"\")   #To read the data"
   ]
  },
  {
   "cell_type": "code",
   "execution_count": null,
   "id": "74302614",
   "metadata": {},
   "outputs": [],
   "source": [
    "df #To see the content of dataframe"
   ]
  },
  {
   "cell_type": "code",
   "execution_count": null,
   "id": "a1570909",
   "metadata": {},
   "outputs": [],
   "source": [
    "df.shape #To get the dimension of dataframe"
   ]
  },
  {
   "cell_type": "code",
   "execution_count": null,
   "id": "8005203f",
   "metadata": {},
   "outputs": [],
   "source": [
    "rows,column = df.shape #It will return tuple of (row,col)"
   ]
  },
  {
   "cell_type": "code",
   "execution_count": null,
   "id": "28ea8920",
   "metadata": {},
   "outputs": [],
   "source": [
    "df.head(number_of_rows) #by deafult it will print inital 5 rows"
   ]
  },
  {
   "cell_type": "code",
   "execution_count": null,
   "id": "a0d5dcb2",
   "metadata": {},
   "outputs": [],
   "source": [
    "df.tail() #it will print rows from last"
   ]
  },
  {
   "cell_type": "code",
   "execution_count": null,
   "id": "765aa84f",
   "metadata": {},
   "outputs": [],
   "source": [
    "#If we want to print row from particular range we use slicing\n",
    "df[2:5]  #Exclucding 5th row till 4th row"
   ]
  },
  {
   "cell_type": "code",
   "execution_count": null,
   "id": "c3a8969e",
   "metadata": {},
   "outputs": [],
   "source": [
    "#To get columns\n",
    "df.columns"
   ]
  },
  {
   "cell_type": "code",
   "execution_count": null,
   "id": "fadb76e5",
   "metadata": {},
   "outputs": [],
   "source": [
    "#To print particular columns\n",
    "df.day  \n",
    "#OR\n",
    "df['day']"
   ]
  },
  {
   "cell_type": "code",
   "execution_count": null,
   "id": "5598a9f1",
   "metadata": {},
   "outputs": [],
   "source": [
    "type(df['event'])   #It is the type pandas series. In pandas a single column is series"
   ]
  },
  {
   "cell_type": "code",
   "execution_count": null,
   "id": "770e6afa",
   "metadata": {},
   "outputs": [],
   "source": [
    "#To print multiple columns\n",
    "df[['day','events']]"
   ]
  },
  {
   "cell_type": "code",
   "execution_count": null,
   "id": "abed893c",
   "metadata": {},
   "outputs": [],
   "source": [
    "df['Temperature'].max() #To print max \n",
    "df['Temperature'].mean() #To get mean\n",
    "df['Temperature'].min()  #To get min\n",
    "df['Temperature'].std()  #To get standard deviation"
   ]
  },
  {
   "cell_type": "code",
   "execution_count": null,
   "id": "349e2438",
   "metadata": {},
   "outputs": [],
   "source": [
    "#To print all the statistics of dataset\n",
    "df.describe()"
   ]
  },
  {
   "cell_type": "code",
   "execution_count": null,
   "id": "d25ed23e",
   "metadata": {},
   "outputs": [],
   "source": [
    "#To print all the rows whose temperature is greater than 32\n",
    "df[df.temperature>=32]\n",
    "\n",
    "#To print row whose temperature is max\n",
    "df[df.temperature==df['temperature'].max()]"
   ]
  },
  {
   "cell_type": "code",
   "execution_count": null,
   "id": "acce6832",
   "metadata": {},
   "outputs": [],
   "source": [
    "#To print specific column\n",
    "df[['day','event']][df.temperature==df['temperature'].max()]"
   ]
  },
  {
   "cell_type": "code",
   "execution_count": null,
   "id": "4f4363bb",
   "metadata": {},
   "outputs": [],
   "source": [
    "#To get info about index\n",
    "df.index"
   ]
  },
  {
   "cell_type": "code",
   "execution_count": null,
   "id": "09158f0f",
   "metadata": {},
   "outputs": [],
   "source": [
    "#To change the index we use\n",
    "df.set_index('day',inplace = True) #Here it gives a new dataframe to modify original we set inplace true"
   ]
  },
  {
   "cell_type": "code",
   "execution_count": null,
   "id": "cf2e0bed",
   "metadata": {},
   "outputs": [],
   "source": [
    "#To get all information on particular date\n",
    "df.loc['1/3/2017']"
   ]
  },
  {
   "cell_type": "code",
   "execution_count": null,
   "id": "1385d2ec",
   "metadata": {},
   "outputs": [],
   "source": [
    "#To reset the index we use\n",
    "df.reset_index(inplace=True)\n",
    "\n",
    "#If there are multiple index means same name then it will print all the row with same index"
   ]
  }
 ],
 "metadata": {
  "kernelspec": {
   "display_name": "Python 3 (ipykernel)",
   "language": "python",
   "name": "python3"
  },
  "language_info": {
   "codemirror_mode": {
    "name": "ipython",
    "version": 3
   },
   "file_extension": ".py",
   "mimetype": "text/x-python",
   "name": "python",
   "nbconvert_exporter": "python",
   "pygments_lexer": "ipython3",
   "version": "3.9.7"
  }
 },
 "nbformat": 4,
 "nbformat_minor": 5
}
