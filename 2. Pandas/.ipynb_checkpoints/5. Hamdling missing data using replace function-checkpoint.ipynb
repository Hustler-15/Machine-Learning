{
 "cells": [
  {
   "cell_type": "code",
   "execution_count": null,
   "id": "c8869967",
   "metadata": {},
   "outputs": [],
   "source": [
    "#Handling missing data using replace function"
   ]
  },
  {
   "cell_type": "code",
   "execution_count": 3,
   "id": "8e5e9d19",
   "metadata": {},
   "outputs": [],
   "source": [
    "import pandas as pd\n",
    "import numpy as np"
   ]
  },
  {
   "cell_type": "code",
   "execution_count": null,
   "id": "1ac92da8",
   "metadata": {},
   "outputs": [],
   "source": [
    "df = pd.read_csv(\"weather_data.csv\")"
   ]
  },
  {
   "cell_type": "code",
   "execution_count": null,
   "id": "0feaf002",
   "metadata": {},
   "outputs": [],
   "source": [
    "#if i want to replace some special value which repeating many times \n",
    "new_df = df.replace(-99999,np.NaN)\n",
    "\n",
    "#if we have more than one special value then we can pass list\n",
    "new_df = df.replace([-88888,-99999],np.NaN) #It will replace all the columns in dataframe"
   ]
  },
  {
   "cell_type": "code",
   "execution_count": null,
   "id": "b71d5208",
   "metadata": {},
   "outputs": [],
   "source": [
    "#replacing value column wise\n",
    "new_df = df.replace({\n",
    "    'temperature' : -99999,\n",
    "    'windspeed' : -99999,\n",
    "    'events' : 0\n",
    "},np.NaN)"
   ]
  },
  {
   "cell_type": "code",
   "execution_count": null,
   "id": "d928a67f",
   "metadata": {},
   "outputs": [],
   "source": [
    "# we can provide mapping what to replace with what\n",
    "new_df = df.replace({-99999 : np.NaN,\n",
    "                    'No event' : 'Sunny'})"
   ]
  },
  {
   "cell_type": "code",
   "execution_count": null,
   "id": "65746d27",
   "metadata": {},
   "outputs": [],
   "source": [
    "# we use regular expression to replace pattern with some values\n",
    "new_df = df.replace('[A-Za-z]','',regex = True)   #It will make all blank values which are string even in events column so we will specify column\n",
    "new_df = df.replace({'temperature' : '[A-Za-z]',\n",
    "                     'windspeed' : '[A-Za-z]'\n",
    "                    }\n",
    "                    ,'',regex = True) "
   ]
  },
  {
   "cell_type": "code",
   "execution_count": null,
   "id": "051138ca",
   "metadata": {},
   "outputs": [],
   "source": [
    "#Replacing list of values with another list of values\n",
    "df = pd.DataFrame({\n",
    "    'score': ['exceptional','average', 'good', 'poor', 'average', 'exceptional'],\n",
    "    'student': ['rob', 'maya', 'parthiv', 'tom', 'julian', 'erica']\n",
    "})\n",
    "df.replace(['poor', 'average', 'good', 'exceptional'], [1,2,3,4])"
   ]
  }
 ],
 "metadata": {
  "kernelspec": {
   "display_name": "Python 3 (ipykernel)",
   "language": "python",
   "name": "python3"
  },
  "language_info": {
   "codemirror_mode": {
    "name": "ipython",
    "version": 3
   },
   "file_extension": ".py",
   "mimetype": "text/x-python",
   "name": "python",
   "nbconvert_exporter": "python",
   "pygments_lexer": "ipython3",
   "version": "3.9.7"
  }
 },
 "nbformat": 4,
 "nbformat_minor": 5
}
