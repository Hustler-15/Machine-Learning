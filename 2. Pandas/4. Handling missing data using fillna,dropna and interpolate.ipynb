{
 "cells": [
  {
   "cell_type": "code",
   "execution_count": null,
   "id": "37b0d657",
   "metadata": {},
   "outputs": [],
   "source": [
    "#Handling missing data using\n",
    "# 1)fillna - To fill missing values in different ways\n",
    "# 2)dropna - To drop rows with missing values\n",
    "# 3)interpolate - To make guess on missing values using interpolation"
   ]
  },
  {
   "cell_type": "code",
   "execution_count": 1,
   "id": "d0040ff1",
   "metadata": {},
   "outputs": [],
   "source": [
    "import pandas as pd"
   ]
  },
  {
   "cell_type": "code",
   "execution_count": null,
   "id": "ea99ab6e",
   "metadata": {},
   "outputs": [],
   "source": [
    "df = pd.read_csv(\"weather_data.csv\",parse_dates = [\"day\"]) #To treat the day column as date data type we use parse_dates\n",
    "df.set_index(\"day\",inplace = True) #To set day as index"
   ]
  },
  {
   "cell_type": "code",
   "execution_count": null,
   "id": "5de32b1e",
   "metadata": {},
   "outputs": [],
   "source": [
    "#To fill the NaN values with some specific value we use fillna\n",
    "new_df = df.fillna(0) #It will fill all NaN values with 0"
   ]
  },
  {
   "cell_type": "code",
   "execution_count": null,
   "id": "f9224a75",
   "metadata": {},
   "outputs": [],
   "source": [
    "#To fill na values in specific column with specific values we pass dictionary in fillna\n",
    "new_df = df.fillna({\n",
    "    'temperature' : 0,\n",
    "    'windspeed' : 0;\n",
    "    'events' : 'no events'\n",
    "})"
   ]
  },
  {
   "cell_type": "code",
   "execution_count": null,
   "id": "6a4f77ce",
   "metadata": {},
   "outputs": [],
   "source": [
    "#Sometime when we calculate mean we cannot fillna value with 0 bcz the value will change a lot so we fill na value with previous value\n",
    "new_df = df.fillna(method = \"ffill\") #ffill -> forward fill and for backwordfill -> bfill\n",
    "#If we pass one more argument axis = \"column\" then it will copy value horizontally \n",
    "#If there are more then one empty column then we can pass limit = 1 argument to fill only one row and reamining will be empty"
   ]
  },
  {
   "cell_type": "code",
   "execution_count": null,
   "id": "294296ca",
   "metadata": {},
   "outputs": [],
   "source": [
    "#To make better guess we use interpolate method\n",
    "new_df = df.interpolate()\n",
    "new_df = df.interpolate(method = \"time\") #It will use time that dates to make guess of temperature"
   ]
  },
  {
   "cell_type": "code",
   "execution_count": null,
   "id": "015b974c",
   "metadata": {},
   "outputs": [],
   "source": [
    "#To drop the row containing NA values\n",
    "new_df = df.dropna()  #It will drop the row if there is atleast one NA value"
   ]
  },
  {
   "cell_type": "code",
   "execution_count": null,
   "id": "c824fcf0",
   "metadata": {},
   "outputs": [],
   "source": [
    "#Suppose i want to drop the row if all values are NA\n",
    "new_df = df.dropna(how = \"all\")"
   ]
  },
  {
   "cell_type": "code",
   "execution_count": null,
   "id": "f112340e",
   "metadata": {},
   "outputs": [],
   "source": [
    "#If i want to keep the row containg atleast one valid value value and remaining discard then we use thresh known as threshold\n",
    "new_df = df.dropna(thresh = 1)"
   ]
  },
  {
   "cell_type": "code",
   "execution_count": null,
   "id": "e272ff3c",
   "metadata": {},
   "outputs": [],
   "source": [
    "#To add missing dates\n",
    "dt = pd.date_range(\"01-01-2017\",\"01-11-2017\")\n",
    "idx = pd.DatetimeIndex(dt)\n",
    "df.reindex(idx)"
   ]
  }
 ],
 "metadata": {
  "kernelspec": {
   "display_name": "Python 3 (ipykernel)",
   "language": "python",
   "name": "python3"
  },
  "language_info": {
   "codemirror_mode": {
    "name": "ipython",
    "version": 3
   },
   "file_extension": ".py",
   "mimetype": "text/x-python",
   "name": "python",
   "nbconvert_exporter": "python",
   "pygments_lexer": "ipython3",
   "version": "3.9.7"
  }
 },
 "nbformat": 4,
 "nbformat_minor": 5
}
