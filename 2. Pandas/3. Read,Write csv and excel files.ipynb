{
 "cells": [
  {
   "cell_type": "code",
   "execution_count": null,
   "id": "50abbbf0",
   "metadata": {},
   "outputs": [],
   "source": [
    "#Reading writing CSV,Excel files\n",
    "# 1)Read CSV\n",
    "# 2)Write CSV\n",
    "# 3)Read Excel\n",
    "# 4)Write Excel"
   ]
  },
  {
   "cell_type": "code",
   "execution_count": 1,
   "id": "3b0c52fa",
   "metadata": {},
   "outputs": [],
   "source": [
    "import pandas as pd"
   ]
  },
  {
   "cell_type": "code",
   "execution_count": 5,
   "id": "a562ba82",
   "metadata": {},
   "outputs": [
    {
     "data": {
      "text/html": [
       "<div>\n",
       "<style scoped>\n",
       "    .dataframe tbody tr th:only-of-type {\n",
       "        vertical-align: middle;\n",
       "    }\n",
       "\n",
       "    .dataframe tbody tr th {\n",
       "        vertical-align: top;\n",
       "    }\n",
       "\n",
       "    .dataframe thead th {\n",
       "        text-align: right;\n",
       "    }\n",
       "</style>\n",
       "<table border=\"1\" class=\"dataframe\">\n",
       "  <thead>\n",
       "    <tr style=\"text-align: right;\">\n",
       "      <th></th>\n",
       "      <th>tickers</th>\n",
       "      <th>eps</th>\n",
       "      <th>revenue</th>\n",
       "      <th>price</th>\n",
       "      <th>people</th>\n",
       "    </tr>\n",
       "  </thead>\n",
       "  <tbody>\n",
       "    <tr>\n",
       "      <th>0</th>\n",
       "      <td>GOOGL</td>\n",
       "      <td>27.82</td>\n",
       "      <td>87</td>\n",
       "      <td>845</td>\n",
       "      <td>larry page</td>\n",
       "    </tr>\n",
       "    <tr>\n",
       "      <th>1</th>\n",
       "      <td>WMT</td>\n",
       "      <td>4.61</td>\n",
       "      <td>484</td>\n",
       "      <td>65</td>\n",
       "      <td>n.a.</td>\n",
       "    </tr>\n",
       "    <tr>\n",
       "      <th>2</th>\n",
       "      <td>MSFT</td>\n",
       "      <td>-1</td>\n",
       "      <td>85</td>\n",
       "      <td>64</td>\n",
       "      <td>bill gates</td>\n",
       "    </tr>\n",
       "    <tr>\n",
       "      <th>3</th>\n",
       "      <td>RIL</td>\n",
       "      <td>not available</td>\n",
       "      <td>50</td>\n",
       "      <td>1023</td>\n",
       "      <td>mukesh ambani</td>\n",
       "    </tr>\n",
       "    <tr>\n",
       "      <th>4</th>\n",
       "      <td>TATA</td>\n",
       "      <td>5.6</td>\n",
       "      <td>-1</td>\n",
       "      <td>n.a.</td>\n",
       "      <td>ratan tata</td>\n",
       "    </tr>\n",
       "  </tbody>\n",
       "</table>\n",
       "</div>"
      ],
      "text/plain": [
       "  tickers            eps  revenue price         people\n",
       "0   GOOGL          27.82       87   845     larry page\n",
       "1     WMT           4.61      484    65           n.a.\n",
       "2    MSFT             -1       85    64     bill gates\n",
       "3    RIL   not available       50  1023  mukesh ambani\n",
       "4    TATA            5.6       -1  n.a.     ratan tata"
      ]
     },
     "execution_count": 5,
     "metadata": {},
     "output_type": "execute_result"
    }
   ],
   "source": [
    "df = pd.read_csv('stock_data.csv',skiprows = 1) #If we want to skip specific row we use skiprow\n",
    "df"
   ]
  },
  {
   "cell_type": "code",
   "execution_count": 6,
   "id": "20ae7a1e",
   "metadata": {},
   "outputs": [
    {
     "data": {
      "text/html": [
       "<div>\n",
       "<style scoped>\n",
       "    .dataframe tbody tr th:only-of-type {\n",
       "        vertical-align: middle;\n",
       "    }\n",
       "\n",
       "    .dataframe tbody tr th {\n",
       "        vertical-align: top;\n",
       "    }\n",
       "\n",
       "    .dataframe thead th {\n",
       "        text-align: right;\n",
       "    }\n",
       "</style>\n",
       "<table border=\"1\" class=\"dataframe\">\n",
       "  <thead>\n",
       "    <tr style=\"text-align: right;\">\n",
       "      <th></th>\n",
       "      <th>tickers</th>\n",
       "      <th>eps</th>\n",
       "      <th>revenue</th>\n",
       "      <th>price</th>\n",
       "      <th>people</th>\n",
       "    </tr>\n",
       "  </thead>\n",
       "  <tbody>\n",
       "    <tr>\n",
       "      <th>0</th>\n",
       "      <td>GOOGL</td>\n",
       "      <td>27.82</td>\n",
       "      <td>87</td>\n",
       "      <td>845</td>\n",
       "      <td>larry page</td>\n",
       "    </tr>\n",
       "    <tr>\n",
       "      <th>1</th>\n",
       "      <td>WMT</td>\n",
       "      <td>4.61</td>\n",
       "      <td>484</td>\n",
       "      <td>65</td>\n",
       "      <td>n.a.</td>\n",
       "    </tr>\n",
       "    <tr>\n",
       "      <th>2</th>\n",
       "      <td>MSFT</td>\n",
       "      <td>-1</td>\n",
       "      <td>85</td>\n",
       "      <td>64</td>\n",
       "      <td>bill gates</td>\n",
       "    </tr>\n",
       "    <tr>\n",
       "      <th>3</th>\n",
       "      <td>RIL</td>\n",
       "      <td>not available</td>\n",
       "      <td>50</td>\n",
       "      <td>1023</td>\n",
       "      <td>mukesh ambani</td>\n",
       "    </tr>\n",
       "    <tr>\n",
       "      <th>4</th>\n",
       "      <td>TATA</td>\n",
       "      <td>5.6</td>\n",
       "      <td>-1</td>\n",
       "      <td>n.a.</td>\n",
       "      <td>ratan tata</td>\n",
       "    </tr>\n",
       "  </tbody>\n",
       "</table>\n",
       "</div>"
      ],
      "text/plain": [
       "  tickers            eps  revenue price         people\n",
       "0   GOOGL          27.82       87   845     larry page\n",
       "1     WMT           4.61      484    65           n.a.\n",
       "2    MSFT             -1       85    64     bill gates\n",
       "3    RIL   not available       50  1023  mukesh ambani\n",
       "4    TATA            5.6       -1  n.a.     ratan tata"
      ]
     },
     "execution_count": 6,
     "metadata": {},
     "output_type": "execute_result"
    }
   ],
   "source": [
    "# we can do the same thing by using this\n",
    "df = pd.read_csv('stock_data.csv',header = 1) #IHere we specify the row number as header\n",
    "df"
   ]
  },
  {
   "cell_type": "code",
   "execution_count": null,
   "id": "ccc8e774",
   "metadata": {},
   "outputs": [],
   "source": [
    "#In case we don't have header than we can set header= None it will generate header in increasing integer\n",
    "df = pd.read_csv('stock_data.csv',header = None,names = [\"ticker\",\"eps\",\"revenue\",\"price\",\"people\"]) #If we want to give specifiv header name if it is missing we use names\n",
    "df"
   ]
  },
  {
   "cell_type": "code",
   "execution_count": null,
   "id": "cbe66dca",
   "metadata": {},
   "outputs": [],
   "source": [
    "#To read specific number of rows in dataframe\n",
    "df = pd.read_csv(\"stock_data.csv\",nrows = 3) #It will read only three rows exculding header"
   ]
  },
  {
   "cell_type": "code",
   "execution_count": null,
   "id": "c71af738",
   "metadata": {},
   "outputs": [],
   "source": [
    "#if we encounter some values like not available or n.a and we want it to be consider as NaN values we use\n",
    "df = pd.read_csv(\"stock_data.csv\",na_values = [\"Not available\",\"n.a.\"])"
   ]
  },
  {
   "cell_type": "code",
   "execution_count": null,
   "id": "f0cd38ea",
   "metadata": {},
   "outputs": [],
   "source": [
    "#if we want to change the some specific column values to NaN we pass dictionary\n",
    "df = pd.read_csv(\"stock_data.csv\",na_values = { \"eps\" : [\"Not available\",\"n.a.\"],\n",
    "                                              \"revenue\" :[\"Not available\",\"n.a.\",-1] })"
   ]
  },
  {
   "cell_type": "code",
   "execution_count": null,
   "id": "0d397cb2",
   "metadata": {},
   "outputs": [],
   "source": [
    "#To save the dataframe as csv file\n",
    "df.to_csv(\"new.csv\",index = False)   #By default it copies the index to csv file to skip it we set index = False\n",
    "df.to_csv(\"new.csv\",columns = [\"tickers\",\"eps\"]) #To save specific column in csv files"
   ]
  },
  {
   "cell_type": "code",
   "execution_count": null,
   "id": "5ae6bc0e",
   "metadata": {},
   "outputs": [],
   "source": [
    "#To skip header\n",
    "df.to_csv(\"new.csv\",header = False)"
   ]
  },
  {
   "cell_type": "code",
   "execution_count": null,
   "id": "ff616c19",
   "metadata": {},
   "outputs": [],
   "source": [
    "#<------------------------Excel File-------------------------------------------->"
   ]
  },
  {
   "cell_type": "code",
   "execution_count": null,
   "id": "6bde0c14",
   "metadata": {},
   "outputs": [],
   "source": [
    "df = pd.read_excel(\"stock_data.xlsx\",\"Sheet1\")"
   ]
  },
  {
   "cell_type": "code",
   "execution_count": null,
   "id": "1a94d3d0",
   "metadata": {},
   "outputs": [],
   "source": [
    "#To change a specific value in a cell we use converter\n",
    "#first we have to define a function\n",
    "\n",
    "def convert_people_cell(cell):\n",
    "    if cell == \"n.a.\":\n",
    "        return \"Sam Walton\"\n",
    "    return cell\n",
    "df = pd.read_excel(\"stock_data.xlsx\",\"Sheet1\",converters = { \"people\" : convert_people_cell}) #To specify in which column we want to run the function we use converters"
   ]
  },
  {
   "cell_type": "code",
   "execution_count": null,
   "id": "dbd9f0b1",
   "metadata": {},
   "outputs": [],
   "source": [
    "#Write excel file\n",
    "df.to_excel(\"new.xlsx\",sheet_name = \"Stock\",startrow = 1,startcol = 2) #to save the file starting from particular row and column"
   ]
  },
  {
   "cell_type": "code",
   "execution_count": null,
   "id": "1c98f475",
   "metadata": {},
   "outputs": [],
   "source": [
    "#To write two dataframe in one excel file in different sheets we pandas excelwriter class\n",
    "df_stocks = pd.DataFrame({\n",
    "    'tickers': ['GOOGL', 'WMT', 'MSFT'],\n",
    "    'price': [845, 65, 64 ],\n",
    "    'pe': [30.37, 14.26, 30.97],\n",
    "    'eps': [27.82, 4.61, 2.12]\n",
    "})\n",
    "\n",
    "df_weather =  pd.DataFrame({\n",
    "    'day': ['1/1/2017','1/2/2017','1/3/2017'],\n",
    "    'temperature': [32,35,28],\n",
    "    'event': ['Rain', 'Sunny', 'Snow']\n",
    "})\n",
    "\n",
    "with pd.ExcelWriter('stocks_weather.xlsx') as writer:\n",
    "    df_stocks.to_excel(writer, sheet_name=\"stocks\")\n",
    "    df_weather.to_excel(writer, sheet_name=\"weather\")"
   ]
  }
 ],
 "metadata": {
  "kernelspec": {
   "display_name": "Python 3 (ipykernel)",
   "language": "python",
   "name": "python3"
  },
  "language_info": {
   "codemirror_mode": {
    "name": "ipython",
    "version": 3
   },
   "file_extension": ".py",
   "mimetype": "text/x-python",
   "name": "python",
   "nbconvert_exporter": "python",
   "pygments_lexer": "ipython3",
   "version": "3.9.7"
  }
 },
 "nbformat": 4,
 "nbformat_minor": 5
}
